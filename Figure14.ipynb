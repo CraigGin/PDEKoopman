{
 "cells": [
  {
   "cell_type": "markdown",
   "metadata": {},
   "source": [
    "# Figure 14"
   ]
  },
  {
   "cell_type": "code",
   "execution_count": 1,
   "metadata": {
    "scrolled": true
   },
   "outputs": [],
   "source": [
    "# Import necessary libraries\n",
    "from __future__ import division, print_function, unicode_literals\n",
    "\n",
    "import matplotlib\n",
    "import matplotlib.pyplot as plt\n",
    "from mpl_toolkits.mplot3d import Axes3D\n",
    "plt.rcParams['axes.labelsize'] = 14\n",
    "plt.rcParams['xtick.labelsize'] = 12\n",
    "plt.rcParams['ytick.labelsize'] = 12\n",
    "\n",
    "import tensorflow as tf\n",
    "import numpy as np\n",
    "from functools import partial\n",
    "import glob, os\n",
    "import pickle\n",
    "import copy\n",
    "from PDEsolvers import Burgers_Periodic"
   ]
  },
  {
   "cell_type": "code",
   "execution_count": 4,
   "metadata": {},
   "outputs": [],
   "source": [
    "# Find the model with lowest validation error\n",
    "import math\n",
    "\n",
    "def BestErrorFile(folder_name):\n",
    "\n",
    "    filename_best = ''\n",
    "    best_error = 10**6\n",
    "\n",
    "    current_dir = os.getcwd()\n",
    "    os.chdir(\"./\" + folder_name)\n",
    "    for file in glob.glob(\"*.pkl\"):\n",
    "        with open(file, 'rb') as f:\n",
    "            params = pickle.load(f)\n",
    "            if not math.isnan(params['minRegTest']):\n",
    "                if params['minRegTest'] < best_error:\n",
    "                    filename_best = file\n",
    "                    best_error = params['minRegTest']\n",
    "    os.chdir(current_dir)\n",
    "\n",
    "    return filename_best"
   ]
  },
  {
   "cell_type": "code",
   "execution_count": 6,
   "metadata": {},
   "outputs": [
    {
     "data": {
      "image/png": "[encoded data removed]",
      "text/plain": [
       "<Figure size 180x144 with 1 Axes>"
      ]
     },
     "metadata": {},
     "output_type": "display_data"
    }
   ],
   "source": [
    "x_vals = np.array([1,2,4,8,11,16,21,32,64,128])\n",
    "y_vals = np.zeros(10)\n",
    "\n",
    "folder_names = ['Burgers_exp28_ROM1/','Burgers_exp28_ROM2/','Burgers_exp28_ROM4/','Burgers_exp28_ROM8/','Burgers_exp28_ROM11/']\n",
    "folder_names = folder_names + ['Burgers_exp28_ROM16/','Burgers_exp28ss/','Burgers_exp28_ROM32/','Burgers_exp28_ROM64/','Burgers_exp28rr/']\n",
    "\n",
    "for k in range(10):\n",
    "    folder_name = folder_names[k]  # Folder to be created for saved output\n",
    "    pkl_file = folder_name + BestErrorFile(folder_name)\n",
    "    \n",
    "    with open(pkl_file, 'rb') as f:\n",
    "        params = pickle.load(f)\n",
    "    \n",
    "    y_vals[k] = params['minTest']\n",
    "\n",
    "plt.figure(figsize=(2.5,2))\n",
    "plt.rcParams['axes.labelsize'] = 8\n",
    "plt.rcParams['xtick.labelsize'] = 8\n",
    "plt.rcParams['ytick.labelsize'] = 8\n",
    "plt.plot(x_vals,y_vals,'ob',markersize=4)\n",
    "plt.xlabel(\"Rank\")\n",
    "plt.ylabel(\"Validation Loss\")\n",
    "plt.tight_layout()\n",
    "plt.show()"
   ]
  },
  {
   "cell_type": "code",
   "execution_count": 7,
   "metadata": {},
   "outputs": [
    {
     "data": {
      "image/png": "[encoded data removed]",
      "text/plain": [
       "<Figure size 180x144 with 1 Axes>"
      ]
     },
     "metadata": {},
     "output_type": "display_data"
    }
   ],
   "source": [
    "x_vals = np.array([1,2,4,8,11,16,21,32,64,128])\n",
    "y_vals = np.zeros(10)\n",
    "\n",
    "folder_names = ['Burgers_exp28_ROM1/','Burgers_exp28_ROM2/','Burgers_exp28_ROM4/','Burgers_exp28_ROM8/','Burgers_exp28_ROM11/']\n",
    "folder_names = folder_names + ['Burgers_exp28_ROM16/','Burgers_exp28ss/','Burgers_exp28_ROM32/','Burgers_exp28_ROM64/','Burgers_exp28rr/']\n",
    "\n",
    "for k in range(10):\n",
    "    folder_name = folder_names[k]  # Folder to be created for saved output\n",
    "    pkl_file = folder_name + BestErrorFile(folder_name)\n",
    "    \n",
    "    with open(pkl_file, 'rb') as f:\n",
    "        params = pickle.load(f)\n",
    "    \n",
    "    y_vals[k] = params['minTest']\n",
    "\n",
    "plt.figure(figsize=(2.5,2))\n",
    "plt.rcParams['axes.labelsize'] = 8\n",
    "plt.rcParams['xtick.labelsize'] = 8\n",
    "plt.rcParams['ytick.labelsize'] = 8\n",
    "plt.plot(x_vals,y_vals,'ob',markersize=4)\n",
    "plt.yscale(\"log\")\n",
    "plt.xscale(\"log\")\n",
    "plt.xlabel(\"Rank\")\n",
    "plt.ylabel(\"Validation Loss\")\n",
    "plt.xticks(2**(np.arange(8)))\n",
    "ax = plt.gca()\n",
    "ax.get_xaxis().set_major_formatter(matplotlib.ticker.ScalarFormatter())\n",
    "plt.tight_layout()\n",
    "plt.show()"
   ]
  },
  {
   "cell_type": "code",
   "execution_count": null,
   "metadata": {},
   "outputs": [],
   "source": []
  }
 ],
 "metadata": {
  "kernelspec": {
   "display_name": "tensorflow",
   "language": "python",
   "name": "tensorflow"
  },
  "language_info": {
   "codemirror_mode": {
    "name": "ipython",
    "version": 2
   },
   "file_extension": ".py",
   "mimetype": "text/x-python",
   "name": "python",
   "nbconvert_exporter": "python",
   "pygments_lexer": "ipython2",
   "version": "2.7.3"
  }
 },
 "nbformat": 4,
 "nbformat_minor": 2
}
