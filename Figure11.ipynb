{
 "cells": [
  {
   "cell_type": "markdown",
   "metadata": {},
   "source": [
    "# Create plots for Figure 11"
   ]
  },
  {
   "cell_type": "code",
   "execution_count": 1,
   "metadata": {
    "scrolled": true
   },
   "outputs": [],
   "source": [
    "# Import necessary libraries\n",
    "from __future__ import division, print_function, unicode_literals\n",
    "\n",
    "import matplotlib\n",
    "import matplotlib.pyplot as plt\n",
    "from mpl_toolkits.mplot3d import Axes3D\n",
    "plt.rcParams['axes.labelsize'] = 14\n",
    "plt.rcParams['xtick.labelsize'] = 12\n",
    "plt.rcParams['ytick.labelsize'] = 12\n",
    "\n",
    "import tensorflow as tf\n",
    "import numpy as np\n",
    "from functools import partial\n",
    "import glob, os\n",
    "import pickle\n",
    "import copy\n",
    "from PDEsolvers import Burgers_Periodic"
   ]
  },
  {
   "cell_type": "code",
   "execution_count": 2,
   "metadata": {},
   "outputs": [],
   "source": [
    "# User inputs\n",
    "data_name = 'Burgers_Eqn_exp28'  # Prefix of data files"
   ]
  },
  {
   "cell_type": "code",
   "execution_count": 3,
   "metadata": {},
   "outputs": [],
   "source": [
    "# Find the model with lowest validation error\n",
    "import math\n",
    "\n",
    "def BestErrorFile(folder_name):\n",
    "\n",
    "    filename_best = ''\n",
    "    best_error = 10**6\n",
    "\n",
    "    current_dir = os.getcwd()\n",
    "    os.chdir(\"./\" + folder_name)\n",
    "    for file in glob.glob(\"*.pkl\"):\n",
    "        with open(file, 'rb') as f:\n",
    "            params = pickle.load(f)\n",
    "            if not math.isnan(params['minRegTest']):\n",
    "                if params['minRegTest'] < best_error:\n",
    "                    filename_best = file\n",
    "                    best_error = params['minRegTest']\n",
    "    os.chdir(current_dir)\n",
    "\n",
    "    return filename_best"
   ]
  },
  {
   "cell_type": "code",
   "execution_count": 4,
   "metadata": {},
   "outputs": [],
   "source": [
    "# Create numpy arrays with data\n",
    "\n",
    "# Use these lines to load all data\n",
    "data_test1 = np.load(('./data/%s_test1_x.npy' % data_name))\n",
    "data_test2 = np.load(('./data/%s_test2_x.npy' % data_name))\n",
    "data_test3 = np.load(('./data/%s_test3_x.npy' % data_name))\n",
    "data_test4 = np.load(('./data/%s_test4_x.npy' % data_name))\n",
    "data_test5 = np.load(('./data/%s_test5_x.npy' % data_name))\n"
   ]
  },
  {
   "cell_type": "code",
   "execution_count": 5,
   "metadata": {},
   "outputs": [],
   "source": [
    "import helperfns\n",
    "\n",
    "max_shifts_to_stack = 50\n",
    "data_test1_tensor = helperfns.stack_data(data_test1, max_shifts_to_stack, 51)\n",
    "data_test2_tensor = helperfns.stack_data(data_test2, max_shifts_to_stack, 51)\n",
    "data_test3_tensor = helperfns.stack_data(data_test3, max_shifts_to_stack, 51)\n",
    "data_test4_tensor = helperfns.stack_data(data_test4, max_shifts_to_stack, 51)\n",
    "data_test5_tensor = helperfns.stack_data(data_test5, max_shifts_to_stack, 51)"
   ]
  },
  {
   "cell_type": "code",
   "execution_count": 6,
   "metadata": {},
   "outputs": [
    {
     "name": "stdout",
     "output_type": "stream",
     "text": [
      "INFO:tensorflow:Restoring parameters from ./Burgers_exp28rr/Burgers_Eqn_exp28_2019_10_30_12_36_21_007819_model.ckpt\n",
      "INFO:tensorflow:Restoring parameters from ./Burgers_exp30e/Burgers_Eqn_exp30_2019_10_31_06_23_27_317592_model.ckpt\n",
      "INFO:tensorflow:Restoring parameters from ./Burgers_exp32e/Burgers_Eqn_exp32_2019_10_31_06_23_48_503042_model.ckpt\n"
     ]
    },
    {
     "data": {
      "image/png": "[encoded data removed]",
      "text/plain": [
       "<Figure size 194.4x216 with 1 Axes>"
      ]
     },
     "metadata": {},
     "output_type": "display_data"
    }
   ],
   "source": [
    "x_vals = np.arange(5)\n",
    "line_styles = [\"ob\",\"*r\",\"dk\"]\n",
    "fill_styles = ['full','full','none']\n",
    "folder_names = ['Burgers_exp28rr/','Burgers_exp30e/','Burgers_exp32e/']\n",
    "\n",
    "plt.figure(figsize=(2.7,3))\n",
    "plt.rcParams['axes.labelsize'] = 8\n",
    "plt.rcParams['xtick.labelsize'] = 8\n",
    "plt.rcParams['ytick.labelsize'] = 8\n",
    "plt.yscale(\"log\")\n",
    "\n",
    "lines = []\n",
    "for k in range(3):\n",
    "    folder_name = folder_names[k]  # Folder to be created for saved output\n",
    "    pkl_file = folder_name + BestErrorFile(folder_name)\n",
    "    \n",
    "    with open(pkl_file, 'rb') as f:\n",
    "        params = pickle.load(f)\n",
    "    \n",
    "    tf.reset_default_graph()\n",
    "    with tf.Session() as sess:\n",
    "        saver = tf.train.import_meta_graph(params['model_path']+'.meta')\n",
    "        saver.restore(sess, params['model_path'])\n",
    "    \n",
    "        test1_loss = sess.run(\"loss2:0\", feed_dict={\"x:0\": data_test1_tensor})\n",
    "        test2_loss = sess.run(\"loss2:0\", feed_dict={\"x:0\": data_test2_tensor})\n",
    "        test3_loss = sess.run(\"loss2:0\", feed_dict={\"x:0\": data_test3_tensor})\n",
    "        test4_loss = sess.run(\"loss2:0\", feed_dict={\"x:0\": data_test4_tensor})\n",
    "        test5_loss = sess.run(\"loss2:0\", feed_dict={\"x:0\": data_test5_tensor})\n",
    "        \n",
    "        \n",
    "    y_vals = np.array([test1_loss, test2_loss, test3_loss, test4_loss, test5_loss])\n",
    "\n",
    "    lines += plt.plot(x_vals,y_vals,line_styles[k],fillstyle=fill_styles[k],markersize=10)\n",
    "    \n",
    "plt.xticks(x_vals, ['\\nwhite\\nnoise','sine','\\nsquare\\nwave','Gaussian','\\ntriangle\\nwave'])\n",
    "plt.yticks([10**(-3),10**(-2), 10**(-1)])\n",
    "plt.xlabel(\"Initial Condition\")\n",
    "plt.ylabel(\"Prediction Error\")\n",
    "plt.legend(lines,['data 3','data 2','data 1'],fontsize=8)\n",
    "plt.tight_layout()\n",
    "plt.show()\n",
    "    "
   ]
  },
  {
   "cell_type": "code",
   "execution_count": 7,
   "metadata": {},
   "outputs": [
    {
     "name": "stdout",
     "output_type": "stream",
     "text": [
      "INFO:tensorflow:Restoring parameters from ./Burgers_exp28ss/Burgers_Eqn_exp28_2019_10_30_16_51_54_151793_model.ckpt\n",
      "INFO:tensorflow:Restoring parameters from ./Burgers_exp30f/Burgers_Eqn_exp30_2019_10_31_06_23_39_735564_model.ckpt\n",
      "INFO:tensorflow:Restoring parameters from ./Burgers_exp32f/Burgers_Eqn_exp32_2019_10_31_06_23_54_058129_model.ckpt\n"
     ]
    },
    {
     "data": {
      "image/png": "[encoded data removed]",
      "text/plain": [
       "<Figure size 194.4x216 with 1 Axes>"
      ]
     },
     "metadata": {},
     "output_type": "display_data"
    }
   ],
   "source": [
    "x_vals = np.arange(5)\n",
    "line_styles = [\"ob\",\"*r\",\"dk\"]\n",
    "fill_styles = ['full','full','none']\n",
    "folder_names = ['Burgers_exp28ss/','Burgers_exp30f/','Burgers_exp32f/']\n",
    "\n",
    "plt.figure(figsize=(2.7,3))\n",
    "plt.rcParams['axes.labelsize'] = 8\n",
    "plt.rcParams['xtick.labelsize'] = 8\n",
    "plt.rcParams['ytick.labelsize'] = 8\n",
    "plt.yscale(\"log\")\n",
    "\n",
    "lines = []\n",
    "for k in range(3):\n",
    "    folder_name = folder_names[k]  # Folder to be created for saved output\n",
    "    pkl_file = folder_name + BestErrorFile(folder_name)\n",
    "    \n",
    "    with open(pkl_file, 'rb') as f:\n",
    "        params = pickle.load(f)\n",
    "    \n",
    "    tf.reset_default_graph()\n",
    "    with tf.Session() as sess:\n",
    "        saver = tf.train.import_meta_graph(params['model_path']+'.meta')\n",
    "        saver.restore(sess, params['model_path'])\n",
    "    \n",
    "        test1_loss = sess.run(\"loss2:0\", feed_dict={\"x:0\": data_test1_tensor})\n",
    "        test2_loss = sess.run(\"loss2:0\", feed_dict={\"x:0\": data_test2_tensor})\n",
    "        test3_loss = sess.run(\"loss2:0\", feed_dict={\"x:0\": data_test3_tensor})\n",
    "        test4_loss = sess.run(\"loss2:0\", feed_dict={\"x:0\": data_test4_tensor})\n",
    "        test5_loss = sess.run(\"loss2:0\", feed_dict={\"x:0\": data_test5_tensor})\n",
    "        \n",
    "        \n",
    "    y_vals = np.array([test1_loss, test2_loss, test3_loss, test4_loss, test5_loss])\n",
    "\n",
    "    lines += plt.plot(x_vals,y_vals,line_styles[k],fillstyle=fill_styles[k],markersize=10)\n",
    "    \n",
    "plt.xticks(x_vals, ['\\nwhite\\nnoise','sine','\\nsquare\\nwave','Gaussian','\\ntriangle\\nwave'])\n",
    "plt.yticks([10**(-3),10**(-2),10**(-1), 10**(0)])\n",
    "plt.xlabel(\"Initial Condition\")\n",
    "plt.ylabel(\"Prediction Error\")\n",
    "plt.legend(lines,['data 3','data 2','data 1'],fontsize=8)\n",
    "plt.tight_layout()\n",
    "plt.show()\n",
    "    "
   ]
  },
  {
   "cell_type": "code",
   "execution_count": null,
   "metadata": {},
   "outputs": [],
   "source": []
  }
 ],
 "metadata": {
  "kernelspec": {
   "display_name": "tensorflow",
   "language": "python",
   "name": "tensorflow"
  },
  "language_info": {
   "codemirror_mode": {
    "name": "ipython",
    "version": 2
   },
   "file_extension": ".py",
   "mimetype": "text/x-python",
   "name": "python",
   "nbconvert_exporter": "python",
   "pygments_lexer": "ipython2",
   "version": "2.7.3"
  }
 },
 "nbformat": 4,
 "nbformat_minor": 2
}
