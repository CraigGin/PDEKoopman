{
 "cells": [
  {
   "cell_type": "code",
   "execution_count": 2,
   "metadata": {
    "scrolled": true
   },
   "outputs": [
    {
     "name": "stdout",
     "output_type": "stream",
     "text": [
      "(0, 'Training error:', 0.4764338, 'Val error:', 0.9389365)\n",
      "(100, 'Training error:', 3.5032325e-08, 'Val error:', 9.493426e-08)\n",
      "(200, 'Training error:', 5.230545e-07, 'Val error:', 8.721063e-07)\n",
      "(300, 'Training error:', 7.753999e-07, 'Val error:', 9.648821e-07)\n",
      "(400, 'Training error:', 1.6098725e-06, 'Val error:', 2.3199395e-06)\n",
      "(500, 'Training error:', 6.8723784e-05, 'Val error:', 6.940498e-05)\n",
      "(600, 'Training error:', 1.9983872e-05, 'Val error:', 2.834156e-05)\n",
      "(700, 'Training error:', 5.0754565e-08, 'Val error:', 1.4144298e-07)\n",
      "(800, 'Training error:', 1.110942e-06, 'Val error:', 1.4012985e-06)\n",
      "(900, 'Training error:', 2.6877611e-05, 'Val error:', 4.693499e-05)\n",
      "('Final Training error:', 2.6877611e-05, 'Final Val error:', 4.693499e-05)\n",
      "('Layer 1 weights:', array([[ 0.38018346, -1.8222693 ]], dtype=float32))\n",
      "('Layer 1 bias:', array([ 0.01080637, -0.05179317], dtype=float32))\n",
      "('Layer 2 weights:', array([[ 2.6303325],\n",
      "       [-0.5487628]], dtype=float32))\n",
      "('Layer 2 bias:', array([-0.02842078], dtype=float32))\n"
     ]
    }
   ],
   "source": [
    "# Train network\n",
    "# To adjust whether there are biases, change use_bias=True/False\n",
    "\n",
    "import numpy as np\n",
    "import tensorflow as tf\n",
    "from functools import partial\n",
    "import os\n",
    "\n",
    "# Widths of layers\n",
    "n_inputs = 1\n",
    "n_hidden1 = 2\n",
    "n_outputs = 1\n",
    "\n",
    "num_train = 10000\n",
    "num_val = 100\n",
    "learning_rate = 0.001\n",
    "n_epochs = 1000  # Number of steps of optimization procedure\n",
    "batch_size = 100  # Number of training examples in each batch of mini-batch optimization\n",
    "reg_lam = 10**(-8)  # Constant weight of regularization loss\n",
    "\n",
    "folder_name = 'Identity_exp1'  # Folder to be created for saved output\n",
    "exp_name = 'exp1'\n",
    "model_path = ('./%s/%s_model.ckpt' % (folder_name, exp_name))  # Name of checkpoint file to save\n",
    "\n",
    "# Set up the graph (Construction phase)\n",
    "tf.reset_default_graph()\n",
    "\n",
    "X = tf.placeholder(tf.float32, shape=(None, n_inputs), name=\"X\")\n",
    "y = tf.placeholder(tf.float32, shape=(None, n_outputs), name=\"y\")\n",
    "\n",
    "he_init = tf.contrib.layers.variance_scaling_initializer()\n",
    "my_dense_layer = partial(tf.layers.dense, activation=tf.nn.relu, use_bias=True, kernel_initializer=he_init,\n",
    "                         kernel_regularizer=tf.contrib.layers.l2_regularizer(reg_lam), bias_regularizer=None)\n",
    "\n",
    "with tf.name_scope(\"network\"):\n",
    "    hidden1 = my_dense_layer(X, n_hidden1, name=\"hidden1\")\n",
    "    output = tf.layers.dense(hidden1, n_outputs, name=\"outputs\", activation=None, use_bias=True, \n",
    "                             kernel_initializer=he_init, kernel_regularizer=tf.contrib.layers.l2_regularizer(reg_lam))\n",
    "\n",
    "with tf.name_scope(\"loss\"):\n",
    "    mse = tf.reduce_mean(tf.squared_difference(output,y))\n",
    "    reg_loss = tf.get_collection(tf.GraphKeys.REGULARIZATION_LOSSES)\n",
    "    loss = mse + reg_loss\n",
    "\n",
    "with tf.name_scope(\"train\"):\n",
    "    optimizer = tf.train.AdamOptimizer(learning_rate)\n",
    "    training_op = optimizer.minimize(loss)\n",
    "\n",
    "sess = tf.Session()\n",
    "init = tf.global_variables_initializer()\n",
    "saver = tf.train.Saver()\n",
    "\n",
    "\n",
    "# Create numpy arrays with data\n",
    "X_train = 2*(np.random.rand(num_train,n_inputs)-.5)\n",
    "y_train = X_train\n",
    "\n",
    "X_valid = 4*(np.random.rand(num_val,n_inputs)-.5)\n",
    "y_valid = X_valid\n",
    "\n",
    "# Define function to randomly split training data into batches\n",
    "def shuffle_batch(X, y, batch_size):\n",
    "    rnd_idx = np.random.permutation(len(X))\n",
    "    n_batches = len(X) // batch_size\n",
    "    for batch_idx in np.array_split(rnd_idx, n_batches):\n",
    "        X_batch, y_batch = X[batch_idx], y[batch_idx]\n",
    "        yield X_batch, y_batch\n",
    "\n",
    "# Execution phase\n",
    "with tf.Session() as sess:\n",
    "    init.run()\n",
    "    for epoch in range(n_epochs):\n",
    "        if epoch % 100 == 0:\n",
    "            mse_train = mse.eval(feed_dict={X: X_train, y: y_train})\n",
    "            rmse_train = np.sqrt(mse_train)\n",
    "            mse_val = mse.eval(feed_dict={X: X_valid, y: y_valid})\n",
    "            rmse_val = np.sqrt(mse_val)\n",
    "            print(epoch, \"Training error:\", rmse_train, \"Val error:\", rmse_val)\n",
    "        for X_batch, y_batch in shuffle_batch(X_train, y_train, batch_size):\n",
    "            sess.run(training_op, feed_dict={X: X_batch, y: y_batch})\n",
    "    \n",
    "    print(\"Final Training error:\", rmse_train, \"Final Val error:\", rmse_val)\n",
    "\n",
    "    if not os.path.exists(folder_name):\n",
    "        os.makedirs(folder_name)\n",
    "        \n",
    "    hidden1_weights = sess.run(tf.get_default_graph().get_tensor_by_name(\"hidden1/kernel:0\"))    \n",
    "    hidden1_bias = sess.run(tf.get_default_graph().get_tensor_by_name(\"hidden1/bias:0\"))   \n",
    "    print(\"Layer 1 weights:\",hidden1_weights) \n",
    "    print(\"Layer 1 bias:\", hidden1_bias)\n",
    "    output_weights = sess.run(tf.get_default_graph().get_tensor_by_name(\"outputs/kernel:0\"))   \n",
    "    output_bias = sess.run(tf.get_default_graph().get_tensor_by_name(\"outputs/bias:0\"))   \n",
    "    print(\"Layer 2 weights:\",output_weights) \n",
    "    print(\"Layer 2 bias:\", output_bias)\n",
    "    \n",
    "    #graph = tf.get_default_graph()\n",
    "    #for op in graph.get_operations():\n",
    "    #   print(op.name)\n",
    "    \n",
    "    x_pts = np.linspace(-10,10,101).reshape((101,1))\n",
    "    plot_outputs = output.eval(feed_dict={X: x_pts, y:x_pts})\n",
    "    x_pts = x_pts[:,0]\n",
    "    plot_outputs = plot_outputs[:,0]\n",
    "        \n",
    "    save_path = saver.save(sess, model_path)"
   ]
  },
  {
   "cell_type": "code",
   "execution_count": 7,
   "metadata": {},
   "outputs": [],
   "source": [
    "# Import libraries to plot results\n",
    "import matplotlib\n",
    "import matplotlib.pyplot as plt\n",
    "plt.rcParams['axes.labelsize'] = 10\n",
    "plt.rcParams['xtick.labelsize'] = 10\n",
    "plt.rcParams['ytick.labelsize'] = 10"
   ]
  },
  {
   "cell_type": "code",
   "execution_count": 44,
   "metadata": {},
   "outputs": [
    {
     "data": {
      "image/png": "[encoded data removed]",
      "text/plain": [
       "<Figure size 136.8x108 with 1 Axes>"
      ]
     },
     "metadata": {},
     "output_type": "display_data"
    }
   ],
   "source": [
    "# Network 1 - Good on training data (-1,1) and all negative numbers, but bad for x > 1\n",
    "W1 = np.array([[-1.1643755e-27, -6.8680680e-01]])\n",
    "b1 = np.array([-0.55037504,  0.6867434 ])\n",
    "W2 = np.array([[ 1.1643292e-27],[-1.4560152e+00]])\n",
    "b2 = np.array([0.9998924])\n",
    "\n",
    "x_pts = np.linspace(-4,4,101).reshape((101,1))\n",
    "hidden1 = np.matmul(x_pts,W1)+b1\n",
    "hidden1 = np.maximum(hidden1,0)\n",
    "plot_outputs = np.matmul(hidden1,W2)+b2\n",
    "\n",
    "plt.figure(figsize=(1.9,1.5))\n",
    "plt.plot(x_pts, plot_outputs, \"b-\", linewidth=1.5)\n",
    "plt.plot(x_pts, x_pts, \"r--\", linewidth=1.5)\n",
    "plt.xticks(np.arange(-1,2,2), ['-1','1'])\n",
    "plt.yticks(np.arange(-1,2,2), ['-1','1'])\n",
    "plt.xlim(-4,4)\n",
    "plt.ylim(-4,4)\n",
    "\n",
    "plt.tight_layout()\n",
    "filename = '../PDEKoopmanAutoencoder/figures/Identity1.eps' \n",
    "plt.savefig(filename,format='eps')\n"
   ]
  },
  {
   "cell_type": "code",
   "execution_count": 38,
   "metadata": {},
   "outputs": [
    {
     "data": {
      "image/png": "[encoded data removed]",
      "text/plain": [
       "<Figure size 136.8x108 with 1 Axes>"
      ]
     },
     "metadata": {},
     "output_type": "display_data"
    }
   ],
   "source": [
    "# Network 2 - Good for training data (-1,1), but bad outside that range\n",
    "W1 = np.array([[ 0.7733566 , -0.61134154]])\n",
    "b1 = np.array([0.7727593 , 0.61113834])\n",
    "W2 = np.array([[ 0.62076116],[-0.8504674 ]])\n",
    "b2 = np.array([0.04005011])\n",
    "\n",
    "x_pts = np.linspace(-4,4,101).reshape((101,1))\n",
    "hidden1 = np.matmul(x_pts,W1)+b1\n",
    "hidden1 = np.maximum(hidden1,0)\n",
    "plot_outputs = np.matmul(hidden1,W2)+b2\n",
    "\n",
    "plt.figure(figsize=(1.9,1.5))\n",
    "plt.plot(x_pts, plot_outputs, \"b-\", linewidth=1.5)\n",
    "plt.plot(x_pts, x_pts, \"r--\", linewidth=1.5)\n",
    "plt.xticks(np.arange(-1,2,2), ['-1','1'])\n",
    "plt.yticks(np.arange(-1,2,2), ['-1','1'])\n",
    "plt.xlim(-4,4)\n",
    "plt.ylim(-4,4)\n",
    "\n",
    "plt.tight_layout()\n",
    "filename = '../PDEKoopmanAutoencoder/figures/Identity2.eps' \n",
    "plt.savefig(filename,format='eps')"
   ]
  },
  {
   "cell_type": "code",
   "execution_count": 45,
   "metadata": {},
   "outputs": [
    {
     "data": {
      "image/png": "[encoded data removed]",
      "text/plain": [
       "<Figure size 180x120.24 with 1 Axes>"
      ]
     },
     "metadata": {},
     "output_type": "display_data"
    }
   ],
   "source": [
    "# Remake Network 2 but larger for Fig. 2 in the paper\n",
    "W1 = np.array([[ 0.7733566 , -0.61134154]])\n",
    "b1 = np.array([0.7727593 , 0.61113834])\n",
    "W2 = np.array([[ 0.62076116],[-0.8504674 ]])\n",
    "b2 = np.array([0.04005011])\n",
    "\n",
    "x_pts = np.linspace(-4,4,101).reshape((101,1))\n",
    "hidden1 = np.matmul(x_pts,W1)+b1\n",
    "hidden1 = np.maximum(hidden1,0)\n",
    "plot_outputs = np.matmul(hidden1,W2)+b2\n",
    "\n",
    "plt.figure(figsize=(2.5,1.67))\n",
    "#plt.figure()\n",
    "plt.plot(x_pts, plot_outputs, \"b-\", linewidth=1.5)\n",
    "plt.plot(x_pts, x_pts, \"r--\", linewidth=1.5)\n",
    "plt.xticks(np.arange(-1,2,2), ['-1','1'])\n",
    "plt.yticks(np.arange(-1,2,2), ['-1','1'])\n",
    "plt.xlim(-4,4)\n",
    "plt.ylim(-4,4)\n",
    "\n",
    "plt.tight_layout()\n",
    "filename = '../PDEKoopmanAutoencoder/figures/Identity2b.eps' \n",
    "plt.savefig(filename,format='eps')\n",
    "\n"
   ]
  },
  {
   "cell_type": "code",
   "execution_count": 39,
   "metadata": {},
   "outputs": [
    {
     "data": {
      "image/png": "[encoded data removed]",
      "text/plain": [
       "<Figure size 136.8x108 with 1 Axes>"
      ]
     },
     "metadata": {},
     "output_type": "display_data"
    }
   ],
   "source": [
    "# Network 3 - Failed for all data (zero network)\n",
    "W1 = np.array([[1.8188939e-27, 2.4089657e-27]])\n",
    "b1 = np.array([-0.91761726, -0.82744503])\n",
    "W2 = np.array([[-1.8809739e-27],[-2.3652775e-27]])\n",
    "b2 = np.array([0.00521214])\n",
    "\n",
    "x_pts = np.linspace(-4,4,101).reshape((101,1))\n",
    "hidden1 = np.matmul(x_pts,W1)+b1\n",
    "hidden1 = np.maximum(hidden1,0)\n",
    "plot_outputs = np.matmul(hidden1,W2)+b2\n",
    "\n",
    "plt.figure(figsize=(1.9,1.5))\n",
    "plt.plot(x_pts, plot_outputs, \"b-\", linewidth=1.5)\n",
    "plt.plot(x_pts, x_pts, \"r--\", linewidth=1.5)\n",
    "plt.xticks(np.arange(-1,2,2), ['-1','1'])\n",
    "plt.yticks(np.arange(-1,2,2), ['-1','1'])\n",
    "plt.xlim(-4,4)\n",
    "plt.ylim(-4,4)\n",
    "\n",
    "plt.tight_layout()\n",
    "filename = '../PDEKoopmanAutoencoder/figures/Identity3.eps' \n",
    "plt.savefig(filename,format='eps')"
   ]
  },
  {
   "cell_type": "code",
   "execution_count": 40,
   "metadata": {},
   "outputs": [
    {
     "data": {
      "image/png": "[encoded data removed]",
      "text/plain": [
       "<Figure size 136.8x108 with 1 Axes>"
      ]
     },
     "metadata": {},
     "output_type": "display_data"
    }
   ],
   "source": [
    "# Network 4 - Good on training data (-1,1) and all positive numbers, but bad for x < -1\n",
    "W1 = np.array([[1.65907562e+00, 1.16404265e-27]])\n",
    "b1 = np.array([ 1.6593537, -0.5873199])\n",
    "W2 = np.array([[6.027454e-01],[1.263996e-25]])\n",
    "b2 = np.array([-1.000168])\n",
    "\n",
    "x_pts = np.linspace(-4,4,101).reshape((101,1))\n",
    "hidden1 = np.matmul(x_pts,W1)+b1\n",
    "hidden1 = np.maximum(hidden1,0)\n",
    "plot_outputs = np.matmul(hidden1,W2)+b2\n",
    "\n",
    "plt.figure(figsize=(1.9,1.5))\n",
    "plt.plot(x_pts, plot_outputs, \"b-\", linewidth=1.5)\n",
    "plt.plot(x_pts, x_pts, \"r--\", linewidth=1.5)\n",
    "plt.xticks(np.arange(-1,2,2), ['-1','1'])\n",
    "plt.yticks(np.arange(-1,2,2), ['-1','1'])\n",
    "plt.xlim(-4,4)\n",
    "plt.ylim(-4,4)\n",
    "\n",
    "plt.tight_layout()\n",
    "filename = '../PDEKoopmanAutoencoder/figures/Identity4.eps' \n",
    "plt.savefig(filename,format='eps')"
   ]
  },
  {
   "cell_type": "code",
   "execution_count": 42,
   "metadata": {},
   "outputs": [
    {
     "data": {
      "image/png": "[encoded data removed]",
      "text/plain": [
       "<Figure size 136.8x108 with 1 Axes>"
      ]
     },
     "metadata": {},
     "output_type": "display_data"
    }
   ],
   "source": [
    "# Network 5 - Extrapolates to all values (really the identity), although it doesn't minimize norm of weights\n",
    "W1 = np.array([[ 1.3979889, -1.3340074]])\n",
    "b1 = np.array([-0.17238672,  0.16449594])\n",
    "W2 = np.array([[ 0.7153113],[-0.7496229]])\n",
    "b2 = np.array([0.12330835])\n",
    "\n",
    "x_pts = np.linspace(-4,4,101).reshape((101,1))\n",
    "hidden1 = np.matmul(x_pts,W1)+b1\n",
    "hidden1 = np.maximum(hidden1,0)\n",
    "plot_outputs = np.matmul(hidden1,W2)+b2\n",
    "\n",
    "plt.figure(figsize=(1.9,1.5))\n",
    "plt.plot(x_pts, plot_outputs, \"b-\", linewidth=1.5)\n",
    "plt.plot(x_pts, x_pts, \"r--\", linewidth=1.5)\n",
    "plt.xticks(np.arange(-1,2,2), ['-1','1'])\n",
    "plt.yticks(np.arange(-1,2,2), ['-1','1'])\n",
    "plt.xlim(-4,4)\n",
    "plt.ylim(-4,4)\n",
    "\n",
    "plt.tight_layout()\n",
    "filename = '../PDEKoopmanAutoencoder/figures/Identity5.eps' \n",
    "plt.savefig(filename,format='eps')"
   ]
  },
  {
   "cell_type": "code",
   "execution_count": 43,
   "metadata": {},
   "outputs": [
    {
     "data": {
      "image/png": "[encoded data removed]",
      "text/plain": [
       "<Figure size 136.8x108 with 1 Axes>"
      ]
     },
     "metadata": {},
     "output_type": "display_data"
    }
   ],
   "source": [
    "# Network 6 - Good on only the bottom half of training data - i.e. works for negatives but not positives\n",
    "# This one was trained with no bias on the output\n",
    "W1 = np.array([[-0.20629159, -0.9959961 ]])\n",
    "b1 = np.array([-0.00013062, -0.00018518])\n",
    "W2 = np.array([[ 1.9960595],[-1.4174443]])\n",
    "b2 = np.array([0])\n",
    "\n",
    "x_pts = np.linspace(-10,10,101).reshape((101,1))\n",
    "hidden1 = np.matmul(x_pts,W1)+b1\n",
    "hidden1 = np.maximum(hidden1,0)\n",
    "plot_outputs = np.matmul(hidden1,W2)+b2\n",
    "\n",
    "plt.figure(figsize=(1.9,1.5))\n",
    "plt.plot(x_pts, plot_outputs, \"b-\", linewidth=1.5)\n",
    "plt.plot(x_pts, x_pts, \"r--\", linewidth=1.5)\n",
    "plt.xticks(np.arange(-1,2,2), ['-1','1'])\n",
    "plt.yticks(np.arange(-1,2,2), ['-1','1'])\n",
    "plt.xlim(-4,4)\n",
    "plt.ylim(-4,4)\n",
    "\n",
    "plt.tight_layout()\n",
    "filename = '../PDEKoopmanAutoencoder/figures/Identity6.eps' \n",
    "plt.savefig(filename,format='eps')"
   ]
  },
  {
   "cell_type": "code",
   "execution_count": null,
   "metadata": {},
   "outputs": [],
   "source": []
  }
 ],
 "metadata": {
  "kernelspec": {
   "display_name": "tensorflow",
   "language": "python",
   "name": "tensorflow"
  },
  "language_info": {
   "codemirror_mode": {
    "name": "ipython",
    "version": 2
   },
   "file_extension": ".py",
   "mimetype": "text/x-python",
   "name": "python",
   "nbconvert_exporter": "python",
   "pygments_lexer": "ipython2",
   "version": "2.7.3"
  }
 },
 "nbformat": 4,
 "nbformat_minor": 2
}
