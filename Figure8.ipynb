{
 "cells": [
  {
   "cell_type": "markdown",
   "metadata": {},
   "source": [
    "# Figure 8"
   ]
  },
  {
   "cell_type": "code",
   "execution_count": 1,
   "metadata": {
    "scrolled": true
   },
   "outputs": [],
   "source": [
    "# Import necessary libraries\n",
    "from __future__ import division, print_function, unicode_literals\n",
    "\n",
    "import matplotlib\n",
    "import matplotlib.pyplot as plt\n",
    "from mpl_toolkits.mplot3d import Axes3D\n",
    "plt.rcParams['axes.labelsize'] = 14\n",
    "plt.rcParams['xtick.labelsize'] = 12\n",
    "plt.rcParams['ytick.labelsize'] = 12\n",
    "plt.rcParams['text.usetex'] = False\n",
    "\n",
    "import tensorflow as tf\n",
    "import numpy as np\n",
    "from functools import partial\n",
    "import glob, os\n",
    "import pickle\n",
    "import copy\n",
    "from PDEsolvers import HeatEqn_FT"
   ]
  },
  {
   "cell_type": "code",
   "execution_count": 2,
   "metadata": {},
   "outputs": [],
   "source": [
    "# User inputs\n",
    "data_name = 'Heat_Eqn_exp29'  # Prefix of data files\n",
    "folder_name = 'Heat_exp29c/'  # Folder to be created for saved output"
   ]
  },
  {
   "cell_type": "code",
   "execution_count": 3,
   "metadata": {},
   "outputs": [
    {
     "name": "stdout",
     "output_type": "stream",
     "text": [
      "Heat_exp29c/Heat_Eqn_exp29_2019_08_04_05_22_13_599012_model.pkl\n",
      "0.0710781492292881\n",
      "0.06387144327163696\n"
     ]
    }
   ],
   "source": [
    "# Find the model with lowest validation error\n",
    "import math\n",
    "\n",
    "def BestErrorFile(folder_name):\n",
    "\n",
    "    filename_best = ''\n",
    "    best_error = 10**6\n",
    "\n",
    "    current_dir = os.getcwd()\n",
    "    os.chdir(\"./\" + folder_name)\n",
    "    for file in glob.glob(\"*.pkl\"):\n",
    "        with open(file, 'rb') as f:\n",
    "            params = pickle.load(f)\n",
    "            if not math.isnan(params['minRegTest']):\n",
    "                if params['minRegTest'] < best_error:\n",
    "                    filename_best = file\n",
    "                    best_error = params['minRegTest']\n",
    "    os.chdir(current_dir)\n",
    "\n",
    "    return filename_best\n",
    "\n",
    "pkl_file = folder_name + BestErrorFile(folder_name)\n",
    "\n",
    "with open(pkl_file, 'rb') as f:\n",
    "     params = pickle.load(f)\n",
    "\n",
    "params['model_restore_path'] = params['model_path']\n",
    "print(pkl_file)\n",
    "print(params['minTest'])\n",
    "print(params['minTrain'])"
   ]
  },
  {
   "cell_type": "code",
   "execution_count": 4,
   "metadata": {},
   "outputs": [
    {
     "name": "stdout",
     "output_type": "stream",
     "text": [
      "INFO:tensorflow:Restoring parameters from ./Heat_exp29c/Heat_Eqn_exp29_2019_08_04_05_22_13_599012_model.ckpt\n"
     ]
    }
   ],
   "source": [
    "# Get all the needed things from the network\n",
    "\n",
    "tf.reset_default_graph()\n",
    "\n",
    "with tf.Session() as sess:\n",
    "    saver = tf.train.import_meta_graph(params['model_path']+'.meta')\n",
    "    saver.restore(sess, params['model_path'])\n",
    "    \n",
    "    L_mat = sess.run(tf.get_default_graph().get_tensor_by_name(\"dynamics/L:0\"))\n",
    "    FT = sess.run(tf.get_default_graph().get_tensor_by_name(\"encoder/FT:0\"))"
   ]
  },
  {
   "cell_type": "code",
   "execution_count": 5,
   "metadata": {},
   "outputs": [
    {
     "name": "stdout",
     "output_type": "stream",
     "text": [
      "[ 2.8610129e-03 -1.0000083e+00 -1.0012273e+00 -4.0001421e+00\n",
      " -4.0069337e+00 -9.0014553e+00 -9.0015297e+00 -1.6016428e+01\n",
      " -1.6016998e+01 -2.4997129e+01 -2.5010124e+01 -3.5992432e+01\n",
      " -3.5995045e+01 -4.8951012e+01 -4.9028839e+01 -6.3908646e+01\n",
      " -6.4093338e+01 -8.0977509e+01 -8.1173203e+01 -1.0002786e+02\n",
      " -1.0004730e+02]\n"
     ]
    }
   ],
   "source": [
    "# Calculate eigenvalues and eigenvectors\n",
    "lam, V = np.linalg.eig(L_mat)\n",
    "lam = np.log(lam)\n",
    "ind = np.argsort(lam)\n",
    "ind = np.flip(ind,0)\n",
    "lam = np.sort(lam)\n",
    "lam = np.flip(lam,0)\n",
    "network_lam = lam/params['delta_t']\n",
    "print(lam/params['delta_t'])"
   ]
  },
  {
   "cell_type": "code",
   "execution_count": 6,
   "metadata": {},
   "outputs": [
    {
     "name": "stderr",
     "output_type": "stream",
     "text": [
      "/anaconda3/envs/tensorflow/lib/python2.7/site-packages/ipykernel_launcher.py:16: ComplexWarning: Casting complex values to real discards the imaginary part\n",
      "  app.launch_new_instance()\n",
      "/anaconda3/envs/tensorflow/lib/python2.7/site-packages/ipykernel_launcher.py:18: ComplexWarning: Casting complex values to real discards the imaginary part\n"
     ]
    },
    {
     "data": {
      "image/png": "[encoded data removed]",
      "text/plain": [
       "<Figure size 288x192.24 with 1 Axes>"
      ]
     },
     "metadata": {},
     "output_type": "display_data"
    }
   ],
   "source": [
    "# Plot encoded vs fft\n",
    "\n",
    "np.random.seed(0)  \n",
    "# Create white noise\n",
    "n = 128\n",
    "ut = np.zeros(n, dtype=np.complex64)\n",
    "ut[0] = np.random.normal()\n",
    "ut[1:n//2] = np.random.normal(size=(n//2-1))+1j*np.random.normal(size=(n//2-1))\n",
    "ut[n//2] = np.random.normal()\n",
    "ut[n//2+1:] = np.flipud(np.conj(ut[1:n//2]))\n",
    "u = np.fft.ifft(ut)\n",
    "\n",
    "v = u.dot(FT)\n",
    "v_sorted = v[ind]\n",
    "combined = np.zeros((12))\n",
    "combined[0] = v_sorted[0]\n",
    "for k in range(10):\n",
    "    combined[k+1] = np.sqrt(v_sorted[2*k+1]**2+v_sorted[2*k+2]**2)\n",
    "\n",
    "u_hat = np.fft.fft(u, n=21)\n",
    "trunc_fft = np.absolute(u_hat[:11])\n",
    "\n",
    "plt.figure(figsize=(4,2.67))\n",
    "enc, = plt.plot(combined,'o-b',linewidth=2.0)\n",
    "dft, = plt.plot(trunc_fft,'*--r',linewidth=2.0)\n",
    "plt.xlabel('$\\omega$, frequency')\n",
    "plt.ylabel('$|a_{\\omega}|^2$')\n",
    "plt.rcParams['axes.labelsize'] = 10\n",
    "plt.rcParams['xtick.labelsize'] = 10\n",
    "plt.rcParams['ytick.labelsize'] = 10\n",
    "plt.legend([enc,dft],['Encoded','DFT'],fontsize=10)\n",
    "plt.tight_layout()\n",
    "plt.show()"
   ]
  }
 ],
 "metadata": {
  "kernelspec": {
   "display_name": "tensorflow",
   "language": "python",
   "name": "tensorflow"
  },
  "language_info": {
   "codemirror_mode": {
    "name": "ipython",
    "version": 2
   },
   "file_extension": ".py",
   "mimetype": "text/x-python",
   "name": "python",
   "nbconvert_exporter": "python",
   "pygments_lexer": "ipython2",
   "version": "2.7.3"
  }
 },
 "nbformat": 4,
 "nbformat_minor": 2
}
