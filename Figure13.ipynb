{
 "cells": [
  {
   "cell_type": "markdown",
   "metadata": {},
   "source": [
    "# Create plots for Figure 13"
   ]
  },
  {
   "cell_type": "code",
   "execution_count": 1,
   "metadata": {
    "scrolled": true
   },
   "outputs": [],
   "source": [
    "# Import necessary libraries\n",
    "from __future__ import division, print_function, unicode_literals\n",
    "\n",
    "import matplotlib\n",
    "import matplotlib.pyplot as plt\n",
    "from mpl_toolkits.mplot3d import Axes3D\n",
    "plt.rcParams['axes.labelsize'] = 14\n",
    "plt.rcParams['xtick.labelsize'] = 12\n",
    "plt.rcParams['ytick.labelsize'] = 12\n",
    "\n",
    "import tensorflow as tf\n",
    "import numpy as np\n",
    "from functools import partial\n",
    "import glob, os\n",
    "import pickle\n",
    "import copy\n",
    "from PDEsolvers import Burgers_Periodic"
   ]
  },
  {
   "cell_type": "code",
   "execution_count": 2,
   "metadata": {},
   "outputs": [],
   "source": [
    "# User inputs\n",
    "data_name = 'Burgers_Eqn_exp28'  # Prefix of data files\n",
    "folder_name = 'Burgers_exp28rr/'  # Folder to be created for saved output"
   ]
  },
  {
   "cell_type": "code",
   "execution_count": 3,
   "metadata": {},
   "outputs": [
    {
     "name": "stdout",
     "output_type": "stream",
     "text": [
      "Burgers_exp28rr/Burgers_Eqn_exp28_2019_10_30_12_36_21_007819_model.pkl\n",
      "0.002094701281748712\n",
      "0.0015315725468099117\n"
     ]
    }
   ],
   "source": [
    "# Find the model with lowest validation error\n",
    "import math\n",
    "\n",
    "def BestErrorFile(folder_name):\n",
    "\n",
    "    filename_best = ''\n",
    "    best_error = 10**6\n",
    "\n",
    "    current_dir = os.getcwd()\n",
    "    os.chdir(\"./\" + folder_name)\n",
    "    for file in glob.glob(\"*.pkl\"):\n",
    "        with open(file, 'rb') as f:\n",
    "            params = pickle.load(f)\n",
    "            if not math.isnan(params['minRegTest']):\n",
    "                if params['minRegTest'] < best_error:\n",
    "                    filename_best = file\n",
    "                    best_error = params['minRegTest']\n",
    "    os.chdir(current_dir)\n",
    "\n",
    "    return filename_best\n",
    "\n",
    "pkl_file = folder_name + BestErrorFile(folder_name)\n",
    "\n",
    "with open(pkl_file, 'rb') as f:\n",
    "     params = pickle.load(f)\n",
    "\n",
    "params['model_restore_path'] = params['model_path']\n",
    "print(pkl_file)\n",
    "print(params['minTest'])\n",
    "print(params['minTrain'])"
   ]
  },
  {
   "cell_type": "code",
   "execution_count": 4,
   "metadata": {},
   "outputs": [],
   "source": [
    "# Load data\n",
    "data_test1 = np.load(('./data/%s_test1_x.npy' % data_name))\n",
    "data_test2 = np.load(('./data/%s_test2_x.npy' % data_name))\n",
    "data_test3 = np.load(('./data/%s_test3_x.npy' % data_name))\n",
    "data_test4 = np.load(('./data/%s_test4_x.npy' % data_name))\n",
    "data_test5 = np.load(('./data/%s_test5_x.npy' % data_name))\n",
    "data_test_all = np.vstack([data_test1,data_test2,data_test3,data_test4,data_test5])\n"
   ]
  },
  {
   "cell_type": "code",
   "execution_count": 5,
   "metadata": {},
   "outputs": [],
   "source": [
    "import helperfns\n",
    "\n",
    "max_shifts_to_stack = helperfns.num_shifts_in_stack(params)\n",
    "data_test_all_tensor = helperfns.stack_data(data_test_all, max_shifts_to_stack, params['val_len_time'])"
   ]
  },
  {
   "cell_type": "code",
   "execution_count": 6,
   "metadata": {},
   "outputs": [
    {
     "name": "stdout",
     "output_type": "stream",
     "text": [
      "INFO:tensorflow:Restoring parameters from ./Burgers_exp28rr/Burgers_Eqn_exp28_2019_10_30_12_36_21_007819_model.ckpt\n"
     ]
    }
   ],
   "source": [
    "# Get partially encoded\n",
    "tf.reset_default_graph()\n",
    "\n",
    "with tf.Session() as sess:\n",
    "    saver = tf.train.import_meta_graph(params['model_path']+'.meta')\n",
    "    saver.restore(sess, params['model_path'])\n",
    "    \n",
    "    # Partially  Encoded\n",
    "    beg = 1\n",
    "    end = max_shifts_to_stack+1\n",
    "    tensor_list = [\"encoder/v_k:0\"]\n",
    "    for k in np.arange(beg,end):\n",
    "        tensor_list.append(\"encoder_\"+str(k)+\"/v_k:0\") \n",
    "    test_partiallyencoded = sess.run(tensor_list, feed_dict={\"x:0\": data_test_all_tensor})\n",
    "    \n",
    "test_partiallyencoded = np.asarray(test_partiallyencoded)"
   ]
  },
  {
   "cell_type": "code",
   "execution_count": 7,
   "metadata": {},
   "outputs": [
    {
     "data": {
      "image/png": "[encoded data removed]",
      "text/plain": [
       "<Figure size 180x144 with 1 Axes>"
      ]
     },
     "metadata": {},
     "output_type": "display_data"
    },
    {
     "data": {
      "image/png": "[encoded data removed]",
      "text/plain": [
       "<Figure size 180x144 with 1 Axes>"
      ]
     },
     "metadata": {},
     "output_type": "display_data"
    }
   ],
   "source": [
    "# Plot for IC = 1002\n",
    "from scipy.integrate import cumtrapz\n",
    "\n",
    "# Inputs\n",
    "eps = 10\n",
    "mu = 1\n",
    "IC = 1002    # index of initial condition\n",
    "\n",
    "partially_encoded = test_partiallyencoded\n",
    "data_tensor = data_test_all_tensor\n",
    "\n",
    "x_pts = np.linspace(-np.pi,np.pi,129)\n",
    "x_pts = x_pts[0:128]  \n",
    "    \n",
    "f = data_tensor[0,IC,:]\n",
    "int_vec = cumtrapz(f, x_pts, initial=0)\n",
    "v = np.exp(-eps*int_vec/(2*mu))\n",
    "\n",
    "plt.figure(figsize=(2.5,2))\n",
    "plt.rcParams['axes.labelsize'] = 8\n",
    "plt.rcParams['xtick.labelsize'] = 8\n",
    "plt.rcParams['ytick.labelsize'] = 8\n",
    "plt.plot(x_pts, data_tensor[0,IC,:], \"b-\", linewidth=2)\n",
    "plt.xticks([-3,0,3])\n",
    "plt.yticks([-0.6,0,0.6])\n",
    "plt.tight_layout()\n",
    "plt.show()\n",
    "\n",
    "plt.figure(figsize=(2.5,2))\n",
    "plt.rcParams['axes.labelsize'] = 8\n",
    "plt.rcParams['xtick.labelsize'] = 8\n",
    "plt.rcParams['ytick.labelsize'] = 8\n",
    "plt.plot(x_pts, v, \"b-\", linewidth=2)\n",
    "plt.plot(x_pts, partially_encoded[0,IC,:], \"r--\", linewidth=2)\n",
    "plt.xticks([-3,0,3],[\"-3\",\"0\",\"3\"])\n",
    "plt.yticks([-10,0,5])\n",
    "plt.ylim([-12,5])\n",
    "plt.legend(['Cole-Hopf','Outer Encoder'],fontsize=8)\n",
    "plt.tight_layout()\n",
    "plt.show()\n"
   ]
  },
  {
   "cell_type": "code",
   "execution_count": 8,
   "metadata": {},
   "outputs": [
    {
     "data": {
      "image/png": "[encoded data removed]",
      "text/plain": [
       "<Figure size 180x144 with 1 Axes>"
      ]
     },
     "metadata": {},
     "output_type": "display_data"
    },
    {
     "data": {
      "image/png": "[encoded data removed]",
      "text/plain": [
       "<Figure size 180x144 with 1 Axes>"
      ]
     },
     "metadata": {},
     "output_type": "display_data"
    }
   ],
   "source": [
    "# Plot for IC = 2004\n",
    "from scipy.integrate import cumtrapz\n",
    "\n",
    "# Inputs\n",
    "eps = 10\n",
    "mu = 1\n",
    "IC = 2004    # index of initial condition\n",
    "\n",
    "partially_encoded = test_partiallyencoded\n",
    "data_tensor = data_test_all_tensor\n",
    "\n",
    "x_pts = np.linspace(-np.pi,np.pi,129)\n",
    "x_pts = x_pts[0:128]  \n",
    "    \n",
    "f = data_tensor[0,IC,:]\n",
    "int_vec = cumtrapz(f, x_pts, initial=0)\n",
    "v = np.exp(-eps*int_vec/(2*mu))\n",
    "\n",
    "plt.figure(figsize=(2.5,2))\n",
    "plt.rcParams['axes.labelsize'] = 8\n",
    "plt.rcParams['xtick.labelsize'] = 8\n",
    "plt.rcParams['ytick.labelsize'] = 8\n",
    "plt.plot(x_pts, data_tensor[0,IC,:], \"b-\", linewidth=2)\n",
    "plt.xticks([-3,0,3])\n",
    "plt.yticks([-0.5,0,0.3])\n",
    "plt.tight_layout()\n",
    "plt.show()\n",
    "\n",
    "plt.figure(figsize=(2.5,2))\n",
    "plt.rcParams['axes.labelsize'] = 8\n",
    "plt.rcParams['xtick.labelsize'] = 8\n",
    "plt.rcParams['ytick.labelsize'] = 8\n",
    "plt.plot(x_pts, v, \"b-\", linewidth=2)\n",
    "plt.plot(x_pts, partially_encoded[0,IC,:], \"r--\", linewidth=2)\n",
    "plt.xticks([-3,0,3],[\"-3\",\"0\",\"3\"])\n",
    "plt.yticks([0,40,80])\n",
    "plt.ylim([-20,85])\n",
    "plt.legend(['Cole-Hopf','Outer Encoder'],fontsize=8)\n",
    "plt.tight_layout()\n",
    "plt.show()\n"
   ]
  }
 ],
 "metadata": {
  "kernelspec": {
   "display_name": "tensorflow",
   "language": "python",
   "name": "tensorflow"
  },
  "language_info": {
   "codemirror_mode": {
    "name": "ipython",
    "version": 2
   },
   "file_extension": ".py",
   "mimetype": "text/x-python",
   "name": "python",
   "nbconvert_exporter": "python",
   "pygments_lexer": "ipython2",
   "version": "2.7.3"
  }
 },
 "nbformat": 4,
 "nbformat_minor": 2
}
