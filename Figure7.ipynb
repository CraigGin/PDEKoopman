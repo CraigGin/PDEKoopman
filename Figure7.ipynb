{
 "cells": [
  {
   "cell_type": "markdown",
   "metadata": {},
   "source": [
    "# Create plots for Figure 7"
   ]
  },
  {
   "cell_type": "code",
   "execution_count": 1,
   "metadata": {
    "scrolled": true
   },
   "outputs": [],
   "source": [
    "# Import necessary libraries\n",
    "from __future__ import division, print_function, unicode_literals\n",
    "\n",
    "import matplotlib\n",
    "import matplotlib.pyplot as plt\n",
    "from mpl_toolkits.mplot3d import Axes3D\n",
    "plt.rcParams['axes.labelsize'] = 14\n",
    "plt.rcParams['xtick.labelsize'] = 12\n",
    "plt.rcParams['ytick.labelsize'] = 12\n",
    "plt.rcParams['text.usetex'] = False\n",
    "\n",
    "import tensorflow as tf\n",
    "import numpy as np\n",
    "from functools import partial\n",
    "import glob, os\n",
    "import pickle\n",
    "import copy\n",
    "from PDEsolvers import HeatEqn_FT"
   ]
  },
  {
   "cell_type": "code",
   "execution_count": 2,
   "metadata": {},
   "outputs": [],
   "source": [
    "# User inputs\n",
    "data_name = 'Heat_Eqn_exp29'  # Prefix of data files\n",
    "folder_name = 'Heat_exp29c/'  # Folder to be created for saved output"
   ]
  },
  {
   "cell_type": "code",
   "execution_count": 3,
   "metadata": {},
   "outputs": [
    {
     "name": "stdout",
     "output_type": "stream",
     "text": [
      "Heat_exp29c/Heat_Eqn_exp29_2019_08_04_05_22_13_599012_model.pkl\n",
      "0.0710781492292881\n",
      "0.06387144327163696\n"
     ]
    }
   ],
   "source": [
    "# Find the model with lowest validation error\n",
    "import math\n",
    "\n",
    "def BestErrorFile(folder_name):\n",
    "\n",
    "    filename_best = ''\n",
    "    best_error = 10**6\n",
    "\n",
    "    current_dir = os.getcwd()\n",
    "    os.chdir(\"./\" + folder_name)\n",
    "    for file in glob.glob(\"*.pkl\"):\n",
    "        with open(file, 'rb') as f:\n",
    "            params = pickle.load(f)\n",
    "            if not math.isnan(params['minRegTest']):\n",
    "                if params['minRegTest'] < best_error:\n",
    "                    filename_best = file\n",
    "                    best_error = params['minRegTest']\n",
    "    os.chdir(current_dir)\n",
    "\n",
    "    return filename_best\n",
    "\n",
    "pkl_file = folder_name + BestErrorFile(folder_name)\n",
    "\n",
    "with open(pkl_file, 'rb') as f:\n",
    "     params = pickle.load(f)\n",
    "\n",
    "params['model_restore_path'] = params['model_path']\n",
    "print(pkl_file)\n",
    "print(params['minTest'])\n",
    "print(params['minTrain'])"
   ]
  },
  {
   "cell_type": "code",
   "execution_count": 4,
   "metadata": {},
   "outputs": [
    {
     "name": "stdout",
     "output_type": "stream",
     "text": [
      "INFO:tensorflow:Restoring parameters from ./Heat_exp29c/Heat_Eqn_exp29_2019_08_04_05_22_13_599012_model.ckpt\n"
     ]
    }
   ],
   "source": [
    "# Get all the needed things from the network\n",
    "\n",
    "tf.reset_default_graph()\n",
    "\n",
    "with tf.Session() as sess:\n",
    "    saver = tf.train.import_meta_graph(params['model_path']+'.meta')\n",
    "    saver.restore(sess, params['model_path'])\n",
    "    \n",
    "    L_mat = sess.run(tf.get_default_graph().get_tensor_by_name(\"dynamics/L:0\"))\n",
    "    IFT = sess.run(tf.get_default_graph().get_tensor_by_name(\"decoder_inner/IFT:0\"))"
   ]
  },
  {
   "cell_type": "code",
   "execution_count": 5,
   "metadata": {},
   "outputs": [
    {
     "name": "stdout",
     "output_type": "stream",
     "text": [
      "[ 2.8610129e-03 -1.0000083e+00 -1.0012273e+00 -4.0001421e+00\n",
      " -4.0069337e+00 -9.0014553e+00 -9.0015297e+00 -1.6016428e+01\n",
      " -1.6016998e+01 -2.4997129e+01 -2.5010124e+01 -3.5992432e+01\n",
      " -3.5995045e+01 -4.8951012e+01 -4.9028839e+01 -6.3908646e+01\n",
      " -6.4093338e+01 -8.0977509e+01 -8.1173203e+01 -1.0002786e+02\n",
      " -1.0004730e+02]\n"
     ]
    }
   ],
   "source": [
    "# Calculate eigenvalues and eigenvectors\n",
    "lam, V = np.linalg.eig(L_mat)\n",
    "lam = np.log(lam)\n",
    "ind = np.argsort(lam)\n",
    "ind = np.flip(ind,0)\n",
    "lam = np.sort(lam)\n",
    "lam = np.flip(lam,0)\n",
    "network_lam = lam/params['delta_t']\n",
    "print(lam/params['delta_t'])"
   ]
  },
  {
   "cell_type": "code",
   "execution_count": 6,
   "metadata": {},
   "outputs": [
    {
     "data": {
      "image/png": "[encoded data removed]",
      "text/plain": [
       "<Figure size 360x239.76 with 1 Axes>"
      ]
     },
     "metadata": {},
     "output_type": "display_data"
    }
   ],
   "source": [
    "exact_lam = 0*lam\n",
    "\n",
    "for k in np.arange(10):\n",
    "    exact_lam[2*k+1:2*k+3] = [-(k+1)**2,-(k+1)**2]\n",
    "\n",
    "plt.figure(figsize=(5,3.33))\n",
    "Network, = plt.plot(-np.real(network_lam),np.imag(network_lam),'ob',markersize=10,markerfacecolor=\"None\")\n",
    "Exact, = plt.plot(-np.real(exact_lam),np.imag(exact_lam),'*r',markersize=10)\n",
    "plt.ylim(-30,30)\n",
    "plt.xlim(0,105)\n",
    "plt.rcParams['axes.labelsize'] = 10\n",
    "plt.rcParams['xtick.labelsize'] = 10\n",
    "plt.rcParams['ytick.labelsize'] = 10\n",
    "plt.title('$-\\log(\\lambda)/dt$',fontsize=10)\n",
    "plt.xlabel('Real')\n",
    "plt.ylabel('Imag')\n",
    "plt.legend([Network,Exact],['Network','Exact'],fontsize=10)\n",
    "plt.tight_layout()\n",
    "plt.show()"
   ]
  },
  {
   "cell_type": "code",
   "execution_count": 7,
   "metadata": {},
   "outputs": [
    {
     "data": {
      "image/png": "[encoded data removed]",
      "text/plain": [
       "<Figure size 108x72 with 1 Axes>"
      ]
     },
     "metadata": {},
     "output_type": "display_data"
    }
   ],
   "source": [
    "# Plot eigenvectors for a particular wavenumber\n",
    "k = 1\n",
    "\n",
    "x_pts = np.linspace(-np.pi,np.pi,129)\n",
    "x_pts = x_pts[0:128]\n",
    "\n",
    "f = V.T.dot(IFT)\n",
    "f = np.real(f)\n",
    "\n",
    "plt.figure(figsize=(1.5,1))\n",
    "plt.plot(x_pts,f[ind[2*k-1],:],'-g',linewidth=1.5)\n",
    "plt.plot(x_pts,f[ind[2*k],:],'--m',linewidth=1.5)\n",
    "plt.xticks([-3,0,3], ['','',''])\n",
    "plt.yticks([-0.1,0,0.1],['','',''])\n",
    "plt.show()"
   ]
  },
  {
   "cell_type": "code",
   "execution_count": 8,
   "metadata": {},
   "outputs": [
    {
     "data": {
      "image/png": "[encoded data removed]",
      "text/plain": [
       "<Figure size 108x72 with 1 Axes>"
      ]
     },
     "metadata": {},
     "output_type": "display_data"
    }
   ],
   "source": [
    "# Plot eigenvectors for a particular wavenumber\n",
    "k = 3\n",
    "\n",
    "x_pts = np.linspace(-np.pi,np.pi,129)\n",
    "x_pts = x_pts[0:128]\n",
    "\n",
    "f = V.T.dot(IFT)\n",
    "f = np.real(f)\n",
    "\n",
    "plt.figure(figsize=(1.5,1))\n",
    "plt.plot(x_pts,f[ind[2*k-1],:],'-g',linewidth=1.5)\n",
    "plt.plot(x_pts,f[ind[2*k],:],'--m',linewidth=1.5)\n",
    "plt.xticks([-3,0,3], ['','',''])\n",
    "plt.yticks([-0.25,0,0.25],['','',''])\n",
    "plt.show()"
   ]
  },
  {
   "cell_type": "code",
   "execution_count": 9,
   "metadata": {},
   "outputs": [
    {
     "data": {
      "image/png": "[encoded data removed]",
      "text/plain": [
       "<Figure size 108x72 with 1 Axes>"
      ]
     },
     "metadata": {},
     "output_type": "display_data"
    }
   ],
   "source": [
    "# Plot eigenvectors for a particular wavenumber\n",
    "k = 8\n",
    "\n",
    "x_pts = np.linspace(-np.pi,np.pi,129)\n",
    "x_pts = x_pts[0:128]\n",
    "\n",
    "f = V.T.dot(IFT)\n",
    "f = np.real(f)\n",
    "\n",
    "plt.figure(figsize=(1.5,1))\n",
    "plt.plot(x_pts,f[ind[2*k-1],:],'-g',linewidth=1.5)\n",
    "plt.plot(x_pts,f[ind[2*k],:],'--m',linewidth=1.5)\n",
    "plt.xticks([-3,0,3], ['','',''])\n",
    "plt.yticks([-0.5,0,0.5],['','',''])\n",
    "plt.show()"
   ]
  },
  {
   "cell_type": "code",
   "execution_count": null,
   "metadata": {},
   "outputs": [],
   "source": []
  }
 ],
 "metadata": {
  "kernelspec": {
   "display_name": "tensorflow",
   "language": "python",
   "name": "tensorflow"
  },
  "language_info": {
   "codemirror_mode": {
    "name": "ipython",
    "version": 2
   },
   "file_extension": ".py",
   "mimetype": "text/x-python",
   "name": "python",
   "nbconvert_exporter": "python",
   "pygments_lexer": "ipython2",
   "version": "2.7.3"
  }
 },
 "nbformat": 4,
 "nbformat_minor": 2
}
