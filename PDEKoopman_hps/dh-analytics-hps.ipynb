{
 "cells": [
  {
   "cell_type": "markdown",
   "metadata": {
    "ExecuteTime": {
     "end_time": "2019-05-06T21:59:04.765111Z",
     "start_time": "2019-05-06T21:59:04.762923Z"
    }
   },
   "source": [
    "# Deephyper analytics - hyperparameter search study\n",
    "**path to data file**: /home/craiggin/deephyper/PDEKoopman_hps/results.csv\n",
    "\n",
    "for customization please see: https://matplotlib.org/api/matplotlib_configuration_api.html\n",
    "\n",
    "## Setup & Data loading"
   ]
  },
  {
   "cell_type": "code",
   "execution_count": null,
   "metadata": {
    "ExecuteTime": {
     "end_time": "2019-05-06T22:00:21.530180Z",
     "start_time": "2019-05-06T22:00:21.459136Z"
    }
   },
   "outputs": [],
   "source": [
    "path_to_data_file = '/home/craiggin/deephyper/PDEKoopman_hps/results.csv'"
   ]
  },
  {
   "cell_type": "code",
   "execution_count": null,
   "metadata": {},
   "outputs": [],
   "source": [
    "import matplotlib\n",
    "import matplotlib.pyplot as plt\n",
    "import numpy as np\n",
    "import pandas as pd\n",
    "import seaborn as sns\n",
    "from pprint import pprint\n",
    "from datetime import datetime\n",
    "from tqdm import tqdm\n",
    "from IPython.display import display, Markdown\n",
    "\n",
    "width = 21\n",
    "height = width/1.618\n",
    "\n",
    "matplotlib.rcParams.update({\n",
    "    'font.size': 21,\n",
    "    'figure.figsize': (width, height), \n",
    "    'figure.facecolor': 'white', \n",
    "    'savefig.dpi': 72, \n",
    "    'figure.subplot.bottom': 0.125, \n",
    "    'figure.edgecolor': 'white',\n",
    "    'xtick.labelsize': 21,\n",
    "    'ytick.labelsize': 21})\n",
    "\n",
    "df = pd.read_csv(path_to_data_file)\n",
    "\n",
    "display(Markdown(f'The search did _{df.count()[0]}_ **evaluations**.'))\n",
    "\n",
    "df.head()"
   ]
  },
  {
   "cell_type": "markdown",
   "metadata": {},
   "source": [
    "## Statistical summary"
   ]
  },
  {
   "cell_type": "code",
   "execution_count": null,
   "metadata": {},
   "outputs": [],
   "source": [
    "df.describe()"
   ]
  },
  {
   "cell_type": "markdown",
   "metadata": {},
   "source": [
    "## Search trajectory"
   ]
  },
  {
   "cell_type": "code",
   "execution_count": null,
   "metadata": {},
   "outputs": [],
   "source": [
    "plt.plot(df.elapsed_sec, df.objective)\n",
    "plt.ylabel('Objective')\n",
    "plt.xlabel('Time (s.)')\n",
    "plt.xlim(0)\n",
    "plt.grid()\n",
    "plt.show()"
   ]
  },
  {
   "cell_type": "markdown",
   "metadata": {},
   "source": [
    "## Pairplots"
   ]
  },
  {
   "cell_type": "code",
   "execution_count": null,
   "metadata": {},
   "outputs": [],
   "source": [
    "not_include = ['elapsed_sec']\n",
    "sns.pairplot(df.loc[:, filter(lambda n: n not in not_include, df.columns)],\n",
    "                diag_kind=\"kde\", markers=\"o\",\n",
    "                plot_kws=dict(s=50, edgecolor=\"b\", linewidth=1),\n",
    "                diag_kws=dict(shade=True))\n",
    "plt.show()"
   ]
  },
  {
   "cell_type": "code",
   "execution_count": null,
   "metadata": {},
   "outputs": [],
   "source": [
    "corr = df.loc[:, filter(lambda n: n not in not_include, df.columns)].corr()\n",
    "sns.heatmap(corr, xticklabels=corr.columns, yticklabels=corr.columns, cmap=sns.diverging_palette(220, 10, as_cmap=True))\n",
    "plt.show()"
   ]
  },
  {
   "cell_type": "markdown",
   "metadata": {},
   "source": [
    "## Best objective"
   ]
  },
  {
   "cell_type": "code",
   "execution_count": null,
   "metadata": {},
   "outputs": [],
   "source": [
    "i_max = df.objective.idxmax()\n",
    "df.iloc[i_max]"
   ]
  },
  {
   "cell_type": "code",
   "execution_count": null,
   "metadata": {},
   "outputs": [],
   "source": [
    "dict(df.iloc[i_max])"
   ]
  }
 ],
 "metadata": {
  "kernelspec": {
   "display_name": "Python 3",
   "language": "python",
   "name": "python3"
  },
  "language_info": {
   "codemirror_mode": {
    "name": "ipython",
    "version": 3
   },
   "file_extension": ".py",
   "mimetype": "text/x-python",
   "name": "python",
   "nbconvert_exporter": "python",
   "pygments_lexer": "ipython3",
   "version": "3.6.8"
  },
  "toc": {
   "base_numbering": 1,
   "nav_menu": {},
   "number_sections": true,
   "sideBar": true,
   "skip_h1_title": false,
   "title_cell": "Table of Contents",
   "title_sidebar": "Contents",
   "toc_cell": false,
   "toc_position": {},
   "toc_section_display": true,
   "toc_window_display": false
  }
 },
 "nbformat": 4,
 "nbformat_minor": 2
}
