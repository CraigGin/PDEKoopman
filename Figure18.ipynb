{
 "cells": [
  {
   "cell_type": "markdown",
   "metadata": {},
   "source": [
    "# Figure 18"
   ]
  },
  {
   "cell_type": "code",
   "execution_count": 1,
   "metadata": {
    "scrolled": true
   },
   "outputs": [],
   "source": [
    "# Import necessary libraries\n",
    "from __future__ import division, print_function, unicode_literals\n",
    "\n",
    "import matplotlib\n",
    "import matplotlib.pyplot as plt\n",
    "from mpl_toolkits.mplot3d import Axes3D\n",
    "\n",
    "import tensorflow as tf\n",
    "import numpy as np\n",
    "from functools import partial\n",
    "import glob, os\n",
    "import pickle\n",
    "import copy\n",
    "from PDEsolvers import KS_Periodic"
   ]
  },
  {
   "cell_type": "code",
   "execution_count": 2,
   "metadata": {},
   "outputs": [],
   "source": [
    "# User inputs\n",
    "data_train_len = 20  # Number of training data files\n",
    "data_name = 'KS_Eqn_exp5'  # Prefix of data files\n",
    "folder_name = 'KS_exp5h/'  # Folder to be created for saved output"
   ]
  },
  {
   "cell_type": "code",
   "execution_count": 3,
   "metadata": {},
   "outputs": [],
   "source": [
    "# Find the model with lowest validation error\n",
    "import math\n",
    "\n",
    "def BestErrorFile(folder_name):\n",
    "\n",
    "    filename_best = ''\n",
    "    best_error = 10**6\n",
    "\n",
    "    current_dir = os.getcwd()\n",
    "    os.chdir(\"./\" + folder_name)\n",
    "    for file in glob.glob(\"*.pkl\"):\n",
    "        with open(file, 'rb') as f:\n",
    "            params = pickle.load(f)\n",
    "            if not math.isnan(params['minRegTest']):\n",
    "                if params['minRegTest'] < best_error:\n",
    "                    filename_best = file\n",
    "                    best_error = params['minRegTest']\n",
    "    os.chdir(current_dir)\n",
    "\n",
    "    return filename_best"
   ]
  },
  {
   "cell_type": "code",
   "execution_count": 4,
   "metadata": {},
   "outputs": [
    {
     "name": "stdout",
     "output_type": "stream",
     "text": [
      "INFO:tensorflow:Restoring parameters from ./KS_exp5f/KS_Eqn_exp5_2019_10_16_13_17_10_923832_model.ckpt\n",
      "0.0047629476\n",
      "INFO:tensorflow:Restoring parameters from ./KS_exp6i/KS_Eqn_exp6_2019_10_19_20_18_32_846738_model.ckpt\n",
      "0.024210492\n",
      "INFO:tensorflow:Restoring parameters from ./KS_exp7g/KS_Eqn_exp7_2019_10_21_07_37_53_340646_model.ckpt\n",
      "0.14672409\n",
      "INFO:tensorflow:Restoring parameters from ./KS_exp4f/KS_Eqn_exp4_2019_10_23_18_52_14_520335_model.ckpt\n",
      "0.4687274\n"
     ]
    }
   ],
   "source": [
    "import helperfns\n",
    "\n",
    "# Best full width networks\n",
    "folder_name_list = ['KS_exp5f/','KS_exp6i/','KS_exp7g/','KS_exp4f/']\n",
    "\n",
    "full_width_predloss = np.zeros(4)\n",
    "for ind in range(4):\n",
    "    folder_name = folder_name_list[ind]\n",
    "    pkl_file = folder_name + BestErrorFile(folder_name)\n",
    "\n",
    "    with open(pkl_file, 'rb') as f:\n",
    "         params = pickle.load(f)\n",
    "    \n",
    "    data_name = params['data_name'] \n",
    "    data_test1 = np.load(('./data/%s_test1_x.npy' % data_name))\n",
    "    data_test2 = np.load(('./data/%s_test2_x.npy' % data_name))\n",
    "    data_test3 = np.load(('./data/%s_test3_x.npy' % data_name))\n",
    "    data_test4 = np.load(('./data/%s_test4_x.npy' % data_name))\n",
    "    data_test5 = np.load(('./data/%s_test5_x.npy' % data_name))\n",
    "    data_test_all = np.vstack([data_test1,data_test2,data_test3,data_test4,data_test5])\n",
    "    \n",
    "    max_shifts_to_stack = helperfns.num_shifts_in_stack(params)\n",
    "    data_test_all_tensor = helperfns.stack_data(data_test_all, max_shifts_to_stack, params['val_len_time'])\n",
    "    \n",
    "    tf.reset_default_graph()\n",
    "\n",
    "    with tf.Session() as sess:\n",
    "        saver = tf.train.import_meta_graph(params['model_path']+'.meta')\n",
    "        saver.restore(sess, params['model_path'])\n",
    "    \n",
    "        pred_loss = sess.run(\"loss2:0\", feed_dict={\"x:0\": data_test_all_tensor})\n",
    "        print(pred_loss)\n",
    "        full_width_predloss[ind] = pred_loss\n",
    "    "
   ]
  },
  {
   "cell_type": "code",
   "execution_count": 5,
   "metadata": {},
   "outputs": [
    {
     "name": "stdout",
     "output_type": "stream",
     "text": [
      "INFO:tensorflow:Restoring parameters from ./KS_exp5h/KS_Eqn_exp5_2019_10_18_07_18_03_991009_model.ckpt\n",
      "0.008977019\n",
      "INFO:tensorflow:Restoring parameters from ./KS_exp6j/KS_Eqn_exp6_2019_10_19_20_13_17_886212_model.ckpt\n",
      "0.022841832\n",
      "INFO:tensorflow:Restoring parameters from ./KS_exp7h/KS_Eqn_exp7_2019_10_20_05_52_19_528113_model.ckpt\n",
      "0.13391751\n",
      "INFO:tensorflow:Restoring parameters from ./KS_exp4e/KS_Eqn_exp4_2019_10_22_18_18_45_259709_model.ckpt\n",
      "0.46454412\n"
     ]
    }
   ],
   "source": [
    "# Best reduced width networks\n",
    "folder_name_list = ['KS_exp5h/','KS_exp6j/','KS_exp7h/','KS_exp4e/']\n",
    "\n",
    "reduced_width_predloss = np.zeros(4)\n",
    "for ind in range(4):\n",
    "    folder_name = folder_name_list[ind]\n",
    "    pkl_file = folder_name + BestErrorFile(folder_name)\n",
    "\n",
    "    with open(pkl_file, 'rb') as f:\n",
    "         params = pickle.load(f)\n",
    "            \n",
    "    data_name = params['data_name']  \n",
    "    data_test1 = np.load(('./data/%s_test1_x.npy' % data_name))\n",
    "    data_test2 = np.load(('./data/%s_test2_x.npy' % data_name))\n",
    "    data_test3 = np.load(('./data/%s_test3_x.npy' % data_name))\n",
    "    data_test4 = np.load(('./data/%s_test4_x.npy' % data_name))\n",
    "    data_test5 = np.load(('./data/%s_test5_x.npy' % data_name))\n",
    "    data_test_all = np.vstack([data_test1,data_test2,data_test3,data_test4,data_test5])\n",
    "    \n",
    "    max_shifts_to_stack = helperfns.num_shifts_in_stack(params)\n",
    "    data_test_all_tensor = helperfns.stack_data(data_test_all, max_shifts_to_stack, params['val_len_time'])    \n",
    "    \n",
    "    tf.reset_default_graph()\n",
    "\n",
    "    with tf.Session() as sess:\n",
    "        saver = tf.train.import_meta_graph(params['model_path']+'.meta')\n",
    "        saver.restore(sess, params['model_path'])\n",
    "    \n",
    "        pred_loss = sess.run(\"loss2:0\", feed_dict={\"x:0\": data_test_all_tensor})\n",
    "        print(pred_loss)\n",
    "        reduced_width_predloss[ind] = pred_loss"
   ]
  },
  {
   "cell_type": "code",
   "execution_count": 6,
   "metadata": {},
   "outputs": [
    {
     "data": {
      "image/png": "[encoded data removed]",
      "text/plain": [
       "<Figure size 360x239.76 with 1 Axes>"
      ]
     },
     "metadata": {},
     "output_type": "display_data"
    }
   ],
   "source": [
    "dt_array = np.array([0.125, 0.25,0.5,1])\n",
    "\n",
    "plt.figure(figsize=(5,3.33))\n",
    "Full, = plt.plot(dt_array,full_width_predloss,'ob',markersize=10)\n",
    "Reduced, = plt.plot(dt_array,reduced_width_predloss,'*r',markersize=10)\n",
    "plt.xscale('log')\n",
    "plt.yscale('log')\n",
    "plt.rcParams['axes.labelsize'] = 10\n",
    "plt.rcParams['xtick.labelsize'] = 10\n",
    "plt.rcParams['ytick.labelsize'] = 10\n",
    "plt.xticks([0.125,0.25,0.5,1.0,2])\n",
    "ax = plt.gca()\n",
    "ax.get_xaxis().set_major_formatter(matplotlib.ticker.ScalarFormatter())\n",
    "plt.xlim(0.1,1.1)\n",
    "plt.xlabel('$\\Delta t$')\n",
    "plt.ylabel('Prediction Loss')\n",
    "plt.legend([Full,Reduced],['Full width Network','Reduced width Network'],fontsize=10)\n",
    "plt.tight_layout()\n",
    "plt.show()"
   ]
  },
  {
   "cell_type": "code",
   "execution_count": 7,
   "metadata": {},
   "outputs": [
    {
     "name": "stdout",
     "output_type": "stream",
     "text": [
      "[0.00476295 0.02421049 0.14672409 0.46872741]\n",
      "[0.00897702 0.02284183 0.13391751 0.46454412]\n"
     ]
    }
   ],
   "source": [
    "print(full_width_predloss)\n",
    "print(reduced_width_predloss)"
   ]
  },
  {
   "cell_type": "code",
   "execution_count": null,
   "metadata": {},
   "outputs": [],
   "source": []
  }
 ],
 "metadata": {
  "kernelspec": {
   "display_name": "tensorflow",
   "language": "python",
   "name": "tensorflow"
  },
  "language_info": {
   "codemirror_mode": {
    "name": "ipython",
    "version": 2
   },
   "file_extension": ".py",
   "mimetype": "text/x-python",
   "name": "python",
   "nbconvert_exporter": "python",
   "pygments_lexer": "ipython2",
   "version": "2.7.3"
  }
 },
 "nbformat": 4,
 "nbformat_minor": 2
}
